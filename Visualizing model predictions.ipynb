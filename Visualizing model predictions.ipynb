{
 "cells": [
  {
   "cell_type": "markdown",
   "metadata": {},
   "source": [
    "# Visualizing model predictions"
   ]
  },
  {
   "cell_type": "markdown",
   "metadata": {},
   "source": [
    "For displaying images, we will be using `matplotlib`, which works wonderfully even from within Jupyter Notebook."
   ]
  },
  {
   "cell_type": "code",
   "execution_count": 1,
   "metadata": {},
   "outputs": [],
   "source": [
    "import torch\n",
    "import torchvision\n",
    "from matplotlib.pyplot import imshow\n",
    "\n",
    "def show_images(images):\n",
    "    # Convert grayscale image into RGB channels.\n",
    "    images = images.expand(-1, 3, -1, -1)\n",
    "    \n",
    "    # Make a grid view image of this batch.\n",
    "    images = torchvision.utils.make_grid(images)\n",
    "    \n",
    "    # Unnormalize.\n",
    "    images = images / 2 + 0.5\n",
    "    \n",
    "    # Convert PyTorch tensor to a NumPy array.\n",
    "    images = images.numpy().transpose([1, 2, 0])\n",
    "    \n",
    "    # Display images.\n",
    "    imshow(images)"
   ]
  },
  {
   "cell_type": "markdown",
   "metadata": {},
   "source": [
    "Let's fetch 8 images from the test dataset and show them."
   ]
  },
  {
   "cell_type": "code",
   "execution_count": 2,
   "metadata": {},
   "outputs": [
    {
     "data": {
      "image/png": "[encoded data removed]",
      "text/plain": [
       "<Figure size 432x288 with 1 Axes>"
      ]
     },
     "metadata": {},
     "output_type": "display_data"
    }
   ],
   "source": [
    "from main import get_data\n",
    "\n",
    "data_train, data_val, data_test = get_data(batch_size=8, num_workers=0)\n",
    "inputs, targets = iter(data_test).next()\n",
    "\n",
    "show_images(inputs)"
   ]
  },
  {
   "cell_type": "markdown",
   "metadata": {},
   "source": [
    "And the actual labels for each image:"
   ]
  },
  {
   "cell_type": "code",
   "execution_count": 3,
   "metadata": {},
   "outputs": [
    {
     "name": "stdout",
     "output_type": "stream",
     "text": [
      "tensor([9, 2, 1, 1, 6, 1, 4, 6])\n"
     ]
    }
   ],
   "source": [
    "print(targets)"
   ]
  },
  {
   "cell_type": "markdown",
   "metadata": {},
   "source": [
    "Oops! The labels are in numbers, of course. They are the label indices, and fortunately, we can find the translated human words from https://github.com/zalandoresearch/fashion-mnist."
   ]
  },
  {
   "cell_type": "code",
   "execution_count": 4,
   "metadata": {},
   "outputs": [
    {
     "name": "stdout",
     "output_type": "stream",
     "text": [
      "Truth:\n",
      "   ankle boot pullover trouser trouser shirt trouser coat shirt\n"
     ]
    }
   ],
   "source": [
    "LABELS = ('t-shirt/top', 'trouser', 'pullover', 'dress', 'coat',\n",
    "          'sandal', 'shirt', 'sneaker', 'bag', 'ankle boot')\n",
    "\n",
    "print('Truth:\\n  ', ' '.join(LABELS[i] for i in targets))"
   ]
  },
  {
   "cell_type": "markdown",
   "metadata": {},
   "source": [
    "## Make predictions with the trained model\n",
    "\n",
    "First, let's build the model and load the trained state from a checkpoint file."
   ]
  },
  {
   "cell_type": "code",
   "execution_count": 5,
   "metadata": {},
   "outputs": [],
   "source": [
    "from main import get_model, load_checkpoint\n",
    "\n",
    "model = get_model()\n",
    "load_checkpoint('checkpoints/29.pth', model)"
   ]
  },
  {
   "cell_type": "markdown",
   "metadata": {},
   "source": [
    "The magic happens here! Run the inputs from the test dataset through the model."
   ]
  },
  {
   "cell_type": "code",
   "execution_count": 6,
   "metadata": {},
   "outputs": [
    {
     "name": "stdout",
     "output_type": "stream",
     "text": [
      "tensor([[29.7212, 18.2632, 26.6118,  ..., -0.7714, -1.4926, -0.2872],\n",
      "        [32.5628, 13.8593, 50.0357,  ...,  1.2142, -0.3287, -1.0400],\n",
      "        [47.4349, 81.4266, 40.4236,  ..., -1.4161,  0.2404,  1.7200],\n",
      "        ...,\n",
      "        [36.5342, 53.4745, 32.0289,  ..., -0.5849, -0.2114,  2.1639],\n",
      "        [30.1944, 19.1829, 44.3080,  ...,  1.1572,  0.0380,  1.0208],\n",
      "        [33.7547, 16.3837, 31.8395,  ...,  1.3180, -0.2662, -0.1007]],\n",
      "       grad_fn=<ThAddmmBackward>)\n"
     ]
    }
   ],
   "source": [
    "outputs = model(inputs)\n",
    "\n",
    "print(outputs)"
   ]
  },
  {
   "cell_type": "markdown",
   "metadata": {},
   "source": [
    "Let's pause for a bit; you'll notice that there is a weird `grad_fn` attached to our tensor. That is the place where PyTorch keeps the history for automatic gradient calculation. If you don't need them, you can tell PyTorch so to save up memory:"
   ]
  },
  {
   "cell_type": "code",
   "execution_count": 7,
   "metadata": {},
   "outputs": [
    {
     "name": "stdout",
     "output_type": "stream",
     "text": [
      "tensor([[29.7212, 18.2632, 26.6118,  ..., -0.7714, -1.4926, -0.2872],\n",
      "        [32.5628, 13.8593, 50.0357,  ...,  1.2142, -0.3287, -1.0400],\n",
      "        [47.4349, 81.4266, 40.4236,  ..., -1.4161,  0.2404,  1.7200],\n",
      "        ...,\n",
      "        [36.5342, 53.4745, 32.0289,  ..., -0.5849, -0.2114,  2.1639],\n",
      "        [30.1944, 19.1829, 44.3080,  ...,  1.1572,  0.0380,  1.0208],\n",
      "        [33.7547, 16.3837, 31.8395,  ...,  1.3180, -0.2662, -0.1007]])\n"
     ]
    }
   ],
   "source": [
    "with torch.no_grad():\n",
    "    outputs = model(inputs)\n",
    "\n",
    "print(outputs)"
   ]
  },
  {
   "cell_type": "markdown",
   "metadata": {},
   "source": [
    "Bye-bye, `grad_fn`!\n",
    "\n",
    "In the above tensor, each row corresponds to an image, and each column denotes the predicted likelihood for each labels. For our use, we need to get the indices of the column with the highest likelihood, which is easy in PyTorch."
   ]
  },
  {
   "cell_type": "code",
   "execution_count": 8,
   "metadata": {},
   "outputs": [
    {
     "name": "stdout",
     "output_type": "stream",
     "text": [
      "tensor([9, 2, 1, 1, 6, 1, 4, 6])\n"
     ]
    }
   ],
   "source": [
    "_, predictions = torch.max(outputs, 1)\n",
    "\n",
    "print(predictions)"
   ]
  },
  {
   "cell_type": "markdown",
   "metadata": {},
   "source": [
    "Let's turn those numbers into words!"
   ]
  },
  {
   "cell_type": "code",
   "execution_count": 9,
   "metadata": {},
   "outputs": [
    {
     "name": "stdout",
     "output_type": "stream",
     "text": [
      "Prediction:\n",
      "   ankle boot pullover trouser trouser shirt trouser coat shirt\n"
     ]
    }
   ],
   "source": [
    "print('Prediction:\\n  ', ' '.join(LABELS[i] for i in predictions))"
   ]
  },
  {
   "cell_type": "markdown",
   "metadata": {},
   "source": [
    "## All-in-one"
   ]
  },
  {
   "cell_type": "code",
   "execution_count": 10,
   "metadata": {},
   "outputs": [
    {
     "data": {
      "image/png": "[encoded data removed]",
      "text/plain": [
       "<Figure size 432x288 with 1 Axes>"
      ]
     },
     "metadata": {},
     "output_type": "display_data"
    }
   ],
   "source": [
    "show_images(inputs)"
   ]
  },
  {
   "cell_type": "code",
   "execution_count": 11,
   "metadata": {},
   "outputs": [
    {
     "name": "stdout",
     "output_type": "stream",
     "text": [
      "Truth:\n",
      "   ankle boot pullover trouser trouser shirt trouser coat shirt\n",
      "Prediction:\n",
      "   ankle boot pullover trouser trouser shirt trouser coat shirt\n"
     ]
    }
   ],
   "source": [
    "print('Truth:\\n  ', ' '.join(LABELS[i] for i in targets))\n",
    "print('Prediction:\\n  ', ' '.join(LABELS[i] for i in predictions))"
   ]
  },
  {
   "cell_type": "code",
   "execution_count": null,
   "metadata": {},
   "outputs": [],
   "source": []
  }
 ],
 "metadata": {
  "kernelspec": {
   "display_name": "Python 3 (pytorch-v0.4.1)",
   "language": "python",
   "name": "pytorch-v0.4.1"
  },
  "language_info": {
   "codemirror_mode": {
    "name": "ipython",
    "version": 3
   },
   "file_extension": ".py",
   "mimetype": "text/x-python",
   "name": "python",
   "nbconvert_exporter": "python",
   "pygments_lexer": "ipython3",
   "version": "3.7.0"
  }
 },
 "nbformat": 4,
 "nbformat_minor": 2
}
